{
 "cells": [
  {
   "cell_type": "code",
   "execution_count": 256,
   "metadata": {},
   "outputs": [],
   "source": [
    "import matplotlib.pyplot as plt\n",
    "import seaborn as sns\n",
    "import numpy as np\n",
    "import pandas as pd\n",
    "import seaborn as sns\n",
    "import scipy.stats as stats\n",
    "from sqlalchemy import create_engine\n",
    "import warnings\n",
    "\n",
    "warnings.filterwarnings('ignore')\n",
    "sns.set(style=\"whitegrid\")\n",
    "\n",
    "postgres_user = 'dsbc_student'\n",
    "postgres_pw = '7*.8G9QH21'\n",
    "postgres_host = '142.93.121.174'\n",
    "postgres_port = '5432'\n",
    "postgres_db = 'useducation'\n",
    "\n",
    "engine = create_engine('postgresql://{}:{}@{}:{}/{}'.format(\n",
    "    postgres_user, postgres_pw, postgres_host, postgres_port, postgres_db))\n",
    "\n",
    "edu_df = pd.read_sql_query('select * from useducation',con=engine)\n",
    "\n",
    "# No need for an open connection, \n",
    "# because you're only doing a single query\n",
    "engine.dispose()"
   ]
  },
  {
   "cell_type": "code",
   "execution_count": 257,
   "metadata": {},
   "outputs": [
    {
     "data": {
      "text/html": [
       "<div>\n",
       "<style scoped>\n",
       "    .dataframe tbody tr th:only-of-type {\n",
       "        vertical-align: middle;\n",
       "    }\n",
       "\n",
       "    .dataframe tbody tr th {\n",
       "        vertical-align: top;\n",
       "    }\n",
       "\n",
       "    .dataframe thead th {\n",
       "        text-align: right;\n",
       "    }\n",
       "</style>\n",
       "<table border=\"1\" class=\"dataframe\">\n",
       "  <thead>\n",
       "    <tr style=\"text-align: right;\">\n",
       "      <th></th>\n",
       "      <th>PRIMARY_KEY</th>\n",
       "      <th>STATE</th>\n",
       "      <th>YEAR</th>\n",
       "      <th>ENROLL</th>\n",
       "      <th>TOTAL_REVENUE</th>\n",
       "      <th>FEDERAL_REVENUE</th>\n",
       "      <th>STATE_REVENUE</th>\n",
       "      <th>LOCAL_REVENUE</th>\n",
       "      <th>TOTAL_EXPENDITURE</th>\n",
       "      <th>INSTRUCTION_EXPENDITURE</th>\n",
       "      <th>...</th>\n",
       "      <th>GRADES_4_G</th>\n",
       "      <th>GRADES_8_G</th>\n",
       "      <th>GRADES_12_G</th>\n",
       "      <th>GRADES_1_8_G</th>\n",
       "      <th>GRADES_9_12_G</th>\n",
       "      <th>GRADES_ALL_G</th>\n",
       "      <th>AVG_MATH_4_SCORE</th>\n",
       "      <th>AVG_MATH_8_SCORE</th>\n",
       "      <th>AVG_READING_4_SCORE</th>\n",
       "      <th>AVG_READING_8_SCORE</th>\n",
       "    </tr>\n",
       "  </thead>\n",
       "  <tbody>\n",
       "    <tr>\n",
       "      <td>0</td>\n",
       "      <td>1992_ALABAMA</td>\n",
       "      <td>ALABAMA</td>\n",
       "      <td>1992</td>\n",
       "      <td>NaN</td>\n",
       "      <td>2678885.0</td>\n",
       "      <td>304177.0</td>\n",
       "      <td>1659028.0</td>\n",
       "      <td>715680.0</td>\n",
       "      <td>2653798.0</td>\n",
       "      <td>1481703.0</td>\n",
       "      <td>...</td>\n",
       "      <td>57948.0</td>\n",
       "      <td>58025.0</td>\n",
       "      <td>41167.0</td>\n",
       "      <td>471564.0</td>\n",
       "      <td>196386.0</td>\n",
       "      <td>676174.0</td>\n",
       "      <td>208.327876</td>\n",
       "      <td>252.187522</td>\n",
       "      <td>207.963517</td>\n",
       "      <td>NaN</td>\n",
       "    </tr>\n",
       "    <tr>\n",
       "      <td>1</td>\n",
       "      <td>1992_ALASKA</td>\n",
       "      <td>ALASKA</td>\n",
       "      <td>1992</td>\n",
       "      <td>NaN</td>\n",
       "      <td>1049591.0</td>\n",
       "      <td>106780.0</td>\n",
       "      <td>720711.0</td>\n",
       "      <td>222100.0</td>\n",
       "      <td>972488.0</td>\n",
       "      <td>498362.0</td>\n",
       "      <td>...</td>\n",
       "      <td>9748.0</td>\n",
       "      <td>8789.0</td>\n",
       "      <td>6714.0</td>\n",
       "      <td>79117.0</td>\n",
       "      <td>30847.0</td>\n",
       "      <td>112335.0</td>\n",
       "      <td>NaN</td>\n",
       "      <td>NaN</td>\n",
       "      <td>NaN</td>\n",
       "      <td>258.859712</td>\n",
       "    </tr>\n",
       "    <tr>\n",
       "      <td>2</td>\n",
       "      <td>1992_ARIZONA</td>\n",
       "      <td>ARIZONA</td>\n",
       "      <td>1992</td>\n",
       "      <td>NaN</td>\n",
       "      <td>3258079.0</td>\n",
       "      <td>297888.0</td>\n",
       "      <td>1369815.0</td>\n",
       "      <td>1590376.0</td>\n",
       "      <td>3401580.0</td>\n",
       "      <td>1435908.0</td>\n",
       "      <td>...</td>\n",
       "      <td>55433.0</td>\n",
       "      <td>49081.0</td>\n",
       "      <td>37410.0</td>\n",
       "      <td>437127.0</td>\n",
       "      <td>175210.0</td>\n",
       "      <td>614881.0</td>\n",
       "      <td>215.253932</td>\n",
       "      <td>265.366278</td>\n",
       "      <td>206.212716</td>\n",
       "      <td>262.169895</td>\n",
       "    </tr>\n",
       "    <tr>\n",
       "      <td>3</td>\n",
       "      <td>1992_ARKANSAS</td>\n",
       "      <td>ARKANSAS</td>\n",
       "      <td>1992</td>\n",
       "      <td>NaN</td>\n",
       "      <td>1711959.0</td>\n",
       "      <td>178571.0</td>\n",
       "      <td>958785.0</td>\n",
       "      <td>574603.0</td>\n",
       "      <td>1743022.0</td>\n",
       "      <td>964323.0</td>\n",
       "      <td>...</td>\n",
       "      <td>34632.0</td>\n",
       "      <td>36011.0</td>\n",
       "      <td>27651.0</td>\n",
       "      <td>281338.0</td>\n",
       "      <td>123113.0</td>\n",
       "      <td>405259.0</td>\n",
       "      <td>210.206028</td>\n",
       "      <td>256.312090</td>\n",
       "      <td>208.634458</td>\n",
       "      <td>264.619665</td>\n",
       "    </tr>\n",
       "    <tr>\n",
       "      <td>4</td>\n",
       "      <td>1992_CALIFORNIA</td>\n",
       "      <td>CALIFORNIA</td>\n",
       "      <td>1992</td>\n",
       "      <td>NaN</td>\n",
       "      <td>26260025.0</td>\n",
       "      <td>2072470.0</td>\n",
       "      <td>16546514.0</td>\n",
       "      <td>7641041.0</td>\n",
       "      <td>27138832.0</td>\n",
       "      <td>14358922.0</td>\n",
       "      <td>...</td>\n",
       "      <td>418418.0</td>\n",
       "      <td>363296.0</td>\n",
       "      <td>270675.0</td>\n",
       "      <td>3286034.0</td>\n",
       "      <td>1372011.0</td>\n",
       "      <td>4717112.0</td>\n",
       "      <td>208.398961</td>\n",
       "      <td>260.892247</td>\n",
       "      <td>196.764414</td>\n",
       "      <td>NaN</td>\n",
       "    </tr>\n",
       "  </tbody>\n",
       "</table>\n",
       "<p>5 rows × 25 columns</p>\n",
       "</div>"
      ],
      "text/plain": [
       "       PRIMARY_KEY       STATE  YEAR  ENROLL  TOTAL_REVENUE  FEDERAL_REVENUE  \\\n",
       "0     1992_ALABAMA     ALABAMA  1992     NaN      2678885.0         304177.0   \n",
       "1      1992_ALASKA      ALASKA  1992     NaN      1049591.0         106780.0   \n",
       "2     1992_ARIZONA     ARIZONA  1992     NaN      3258079.0         297888.0   \n",
       "3    1992_ARKANSAS    ARKANSAS  1992     NaN      1711959.0         178571.0   \n",
       "4  1992_CALIFORNIA  CALIFORNIA  1992     NaN     26260025.0        2072470.0   \n",
       "\n",
       "   STATE_REVENUE  LOCAL_REVENUE  TOTAL_EXPENDITURE  INSTRUCTION_EXPENDITURE  \\\n",
       "0      1659028.0       715680.0          2653798.0                1481703.0   \n",
       "1       720711.0       222100.0           972488.0                 498362.0   \n",
       "2      1369815.0      1590376.0          3401580.0                1435908.0   \n",
       "3       958785.0       574603.0          1743022.0                 964323.0   \n",
       "4     16546514.0      7641041.0         27138832.0               14358922.0   \n",
       "\n",
       "   ...  GRADES_4_G  GRADES_8_G  GRADES_12_G  GRADES_1_8_G  GRADES_9_12_G  \\\n",
       "0  ...     57948.0     58025.0      41167.0      471564.0       196386.0   \n",
       "1  ...      9748.0      8789.0       6714.0       79117.0        30847.0   \n",
       "2  ...     55433.0     49081.0      37410.0      437127.0       175210.0   \n",
       "3  ...     34632.0     36011.0      27651.0      281338.0       123113.0   \n",
       "4  ...    418418.0    363296.0     270675.0     3286034.0      1372011.0   \n",
       "\n",
       "   GRADES_ALL_G  AVG_MATH_4_SCORE  AVG_MATH_8_SCORE  AVG_READING_4_SCORE  \\\n",
       "0      676174.0        208.327876        252.187522           207.963517   \n",
       "1      112335.0               NaN               NaN                  NaN   \n",
       "2      614881.0        215.253932        265.366278           206.212716   \n",
       "3      405259.0        210.206028        256.312090           208.634458   \n",
       "4     4717112.0        208.398961        260.892247           196.764414   \n",
       "\n",
       "   AVG_READING_8_SCORE  \n",
       "0                  NaN  \n",
       "1           258.859712  \n",
       "2           262.169895  \n",
       "3           264.619665  \n",
       "4                  NaN  \n",
       "\n",
       "[5 rows x 25 columns]"
      ]
     },
     "execution_count": 257,
     "metadata": {},
     "output_type": "execute_result"
    }
   ],
   "source": [
    "edu_df.head()"
   ]
  },
  {
   "cell_type": "code",
   "execution_count": 258,
   "metadata": {},
   "outputs": [
    {
     "data": {
      "text/plain": [
       "Index(['PRIMARY_KEY', 'STATE', 'YEAR', 'ENROLL', 'TOTAL_REVENUE',\n",
       "       'FEDERAL_REVENUE', 'STATE_REVENUE', 'LOCAL_REVENUE',\n",
       "       'TOTAL_EXPENDITURE', 'INSTRUCTION_EXPENDITURE',\n",
       "       'SUPPORT_SERVICES_EXPENDITURE', 'OTHER_EXPENDITURE',\n",
       "       'CAPITAL_OUTLAY_EXPENDITURE', 'GRADES_PK_G', 'GRADES_KG_G',\n",
       "       'GRADES_4_G', 'GRADES_8_G', 'GRADES_12_G', 'GRADES_1_8_G',\n",
       "       'GRADES_9_12_G', 'GRADES_ALL_G', 'AVG_MATH_4_SCORE', 'AVG_MATH_8_SCORE',\n",
       "       'AVG_READING_4_SCORE', 'AVG_READING_8_SCORE'],\n",
       "      dtype='object')"
      ]
     },
     "execution_count": 258,
     "metadata": {},
     "output_type": "execute_result"
    }
   ],
   "source": [
    "edu_df.columns"
   ]
  },
  {
   "cell_type": "code",
   "execution_count": 259,
   "metadata": {},
   "outputs": [],
   "source": [
    "column=['ENROLL', 'TOTAL_REVENUE',\n",
    "       'FEDERAL_REVENUE', 'STATE_REVENUE', 'LOCAL_REVENUE',\n",
    "       'TOTAL_EXPENDITURE', 'INSTRUCTION_EXPENDITURE',\n",
    "       'SUPPORT_SERVICES_EXPENDITURE', 'OTHER_EXPENDITURE',\n",
    "       'CAPITAL_OUTLAY_EXPENDITURE', 'GRADES_PK_G', 'GRADES_KG_G',\n",
    "       'GRADES_4_G', 'GRADES_8_G', 'GRADES_12_G', 'GRADES_1_8_G',\n",
    "       'GRADES_9_12_G', 'GRADES_ALL_G', 'AVG_MATH_4_SCORE', 'AVG_MATH_8_SCORE',\n",
    "       'AVG_READING_4_SCORE', 'AVG_READING_8_SCORE']"
   ]
  },
  {
   "cell_type": "code",
   "execution_count": 260,
   "metadata": {},
   "outputs": [
    {
     "data": {
      "text/plain": [
       "array(['ALABAMA', 'ALASKA', 'ARIZONA', 'ARKANSAS', 'CALIFORNIA',\n",
       "       'COLORADO', 'CONNECTICUT', 'DELAWARE', 'DISTRICT_OF_COLUMBIA',\n",
       "       'FLORIDA', 'GEORGIA', 'HAWAII', 'IDAHO', 'ILLINOIS', 'INDIANA',\n",
       "       'IOWA', 'KANSAS', 'KENTUCKY', 'LOUISIANA', 'MAINE', 'MARYLAND',\n",
       "       'MASSACHUSETTS', 'MICHIGAN', 'MINNESOTA', 'MISSISSIPPI',\n",
       "       'MISSOURI', 'MONTANA', 'NEBRASKA', 'NEVADA', 'NEW_HAMPSHIRE',\n",
       "       'NEW_JERSEY', 'NEW_MEXICO', 'NEW_YORK', 'NORTH_CAROLINA',\n",
       "       'NORTH_DAKOTA', 'OHIO', 'WYOMING', 'OKLAHOMA', 'OREGON',\n",
       "       'PENNSYLVANIA', 'RHODE_ISLAND', 'SOUTH_CAROLINA', 'SOUTH_DAKOTA',\n",
       "       'TENNESSEE', 'TEXAS', 'UTAH', 'VERMONT', 'VIRGINIA', 'WASHINGTON',\n",
       "       'WEST_VIRGINIA', 'WISCONSIN', 'BUREAU_OF_INDIAN_AFFAIRS',\n",
       "       'DOD_OVERSEAS', 'DOD_DOMESTIC', 'AMERICAN_SAMOA', 'GUAM',\n",
       "       'NORTHERN_MARIANAS', 'PUERTO_RICO', 'VIRGIN_ISLANDS', 'BI', 'DD',\n",
       "       'NORTHERN_MARIANA_ISLANDS', 'DEPARTMENT_OF_DEFENSE',\n",
       "       'BUREAU_OF_INDIAN_EDUCATION',\n",
       "       'DEPARTMENT_OF_DEFENSE_EDUCATION_ACTIVITY', 'U.S._VIRGIN_ISLANDS',\n",
       "       'DOD_(OVERSEAS_AND_DOMESTIC_COMBINED)', 'BIE', 'DOD_-_FOREIGN',\n",
       "       'COMMONWEALTH_OF_MARIANAS', 'AS', 'GU', 'MP', 'PR', 'VI',\n",
       "       'MARIANAS', 'BUREAU_OF_INDIAN_EDUCATIO', 'DOD_-_OVERSEAS',\n",
       "       'DOD_-_DOMESTIC', 'DOD'], dtype=object)"
      ]
     },
     "execution_count": 260,
     "metadata": {},
     "output_type": "execute_result"
    }
   ],
   "source": [
    "state=edu_df['STATE'].unique()\n",
    "state"
   ]
  },
  {
   "cell_type": "code",
   "execution_count": 261,
   "metadata": {},
   "outputs": [],
   "source": [
    "education_df=edu_df.copy()"
   ]
  },
  {
   "cell_type": "code",
   "execution_count": 262,
   "metadata": {},
   "outputs": [],
   "source": [
    "for s in state:\n",
    "    education_df.loc[education_df['STATE']==s,column]=education_df.loc[education_df['STATE']==s,column].interpolate()"
   ]
  },
  {
   "cell_type": "code",
   "execution_count": 263,
   "metadata": {},
   "outputs": [
    {
     "data": {
      "text/plain": [
       "PRIMARY_KEY                     False\n",
       "STATE                           False\n",
       "YEAR                            False\n",
       "ENROLL                           True\n",
       "TOTAL_REVENUE                    True\n",
       "FEDERAL_REVENUE                  True\n",
       "STATE_REVENUE                    True\n",
       "LOCAL_REVENUE                    True\n",
       "TOTAL_EXPENDITURE                True\n",
       "INSTRUCTION_EXPENDITURE          True\n",
       "SUPPORT_SERVICES_EXPENDITURE     True\n",
       "OTHER_EXPENDITURE                True\n",
       "CAPITAL_OUTLAY_EXPENDITURE       True\n",
       "GRADES_PK_G                      True\n",
       "GRADES_KG_G                      True\n",
       "GRADES_4_G                       True\n",
       "GRADES_8_G                       True\n",
       "GRADES_12_G                      True\n",
       "GRADES_1_8_G                     True\n",
       "GRADES_9_12_G                    True\n",
       "GRADES_ALL_G                     True\n",
       "AVG_MATH_4_SCORE                 True\n",
       "AVG_MATH_8_SCORE                 True\n",
       "AVG_READING_4_SCORE              True\n",
       "AVG_READING_8_SCORE              True\n",
       "dtype: bool"
      ]
     },
     "execution_count": 263,
     "metadata": {},
     "output_type": "execute_result"
    }
   ],
   "source": [
    "education_df.isna().any()"
   ]
  },
  {
   "cell_type": "code",
   "execution_count": 264,
   "metadata": {},
   "outputs": [],
   "source": [
    "education_df.dropna(inplace=True)"
   ]
  },
  {
   "cell_type": "code",
   "execution_count": 265,
   "metadata": {},
   "outputs": [
    {
     "data": {
      "text/plain": [
       "PRIMARY_KEY                     False\n",
       "STATE                           False\n",
       "YEAR                            False\n",
       "ENROLL                          False\n",
       "TOTAL_REVENUE                   False\n",
       "FEDERAL_REVENUE                 False\n",
       "STATE_REVENUE                   False\n",
       "LOCAL_REVENUE                   False\n",
       "TOTAL_EXPENDITURE               False\n",
       "INSTRUCTION_EXPENDITURE         False\n",
       "SUPPORT_SERVICES_EXPENDITURE    False\n",
       "OTHER_EXPENDITURE               False\n",
       "CAPITAL_OUTLAY_EXPENDITURE      False\n",
       "GRADES_PK_G                     False\n",
       "GRADES_KG_G                     False\n",
       "GRADES_4_G                      False\n",
       "GRADES_8_G                      False\n",
       "GRADES_12_G                     False\n",
       "GRADES_1_8_G                    False\n",
       "GRADES_9_12_G                   False\n",
       "GRADES_ALL_G                    False\n",
       "AVG_MATH_4_SCORE                False\n",
       "AVG_MATH_8_SCORE                False\n",
       "AVG_READING_4_SCORE             False\n",
       "AVG_READING_8_SCORE             False\n",
       "dtype: bool"
      ]
     },
     "execution_count": 265,
     "metadata": {},
     "output_type": "execute_result"
    }
   ],
   "source": [
    "education_df.isna().any()"
   ]
  },
  {
   "cell_type": "markdown",
   "metadata": {},
   "source": [
    "## 1. Compute the average score for each row for all students weighted properly by grade. In other words, each row will have its own average. Notice that the number of students in the fourth grade isn't the same as the number of students in the eighth grade. So, you should appropriately weigh the scores."
   ]
  },
  {
   "cell_type": "code",
   "execution_count": 268,
   "metadata": {},
   "outputs": [],
   "source": [
    "education_df['avg_grade']=(education_df[\"GRADES_4_G\"]*((education_df[\"AVG_MATH_4_SCORE\"] + education_df[\"AVG_READING_4_SCORE\"])*0.5) + education_df[\"GRADES_8_G\"] \n",
    "                                 * ((education_df[\"AVG_MATH_8_SCORE\"] + education_df[\"AVG_READING_8_SCORE\"])*0.5))/(education_df[\"GRADES_4_G\"] + education_df[\"GRADES_8_G\"])"
   ]
  },
  {
   "cell_type": "code",
   "execution_count": 269,
   "metadata": {},
   "outputs": [
    {
     "data": {
      "text/html": [
       "<div>\n",
       "<style scoped>\n",
       "    .dataframe tbody tr th:only-of-type {\n",
       "        vertical-align: middle;\n",
       "    }\n",
       "\n",
       "    .dataframe tbody tr th {\n",
       "        vertical-align: top;\n",
       "    }\n",
       "\n",
       "    .dataframe thead th {\n",
       "        text-align: right;\n",
       "    }\n",
       "</style>\n",
       "<table border=\"1\" class=\"dataframe\">\n",
       "  <thead>\n",
       "    <tr style=\"text-align: right;\">\n",
       "      <th></th>\n",
       "      <th>PRIMARY_KEY</th>\n",
       "      <th>STATE</th>\n",
       "      <th>YEAR</th>\n",
       "      <th>ENROLL</th>\n",
       "      <th>TOTAL_REVENUE</th>\n",
       "      <th>FEDERAL_REVENUE</th>\n",
       "      <th>STATE_REVENUE</th>\n",
       "      <th>LOCAL_REVENUE</th>\n",
       "      <th>TOTAL_EXPENDITURE</th>\n",
       "      <th>INSTRUCTION_EXPENDITURE</th>\n",
       "      <th>...</th>\n",
       "      <th>GRADES_8_G</th>\n",
       "      <th>GRADES_12_G</th>\n",
       "      <th>GRADES_1_8_G</th>\n",
       "      <th>GRADES_9_12_G</th>\n",
       "      <th>GRADES_ALL_G</th>\n",
       "      <th>AVG_MATH_4_SCORE</th>\n",
       "      <th>AVG_MATH_8_SCORE</th>\n",
       "      <th>AVG_READING_4_SCORE</th>\n",
       "      <th>AVG_READING_8_SCORE</th>\n",
       "      <th>avg_grade</th>\n",
       "    </tr>\n",
       "  </thead>\n",
       "  <tbody>\n",
       "    <tr>\n",
       "      <td>54</td>\n",
       "      <td>1993_ARIZONA</td>\n",
       "      <td>ARIZONA</td>\n",
       "      <td>1993</td>\n",
       "      <td>676297.0</td>\n",
       "      <td>3427976.0</td>\n",
       "      <td>318465.0</td>\n",
       "      <td>1415407.0</td>\n",
       "      <td>1694104.0</td>\n",
       "      <td>3623946.0</td>\n",
       "      <td>1578889.0</td>\n",
       "      <td>...</td>\n",
       "      <td>53500.0</td>\n",
       "      <td>37614.0</td>\n",
       "      <td>461398.0</td>\n",
       "      <td>182737.0</td>\n",
       "      <td>647299.0</td>\n",
       "      <td>215.834434</td>\n",
       "      <td>265.993417</td>\n",
       "      <td>206.291984</td>\n",
       "      <td>262.448330</td>\n",
       "      <td>236.637935</td>\n",
       "    </tr>\n",
       "    <tr>\n",
       "      <td>55</td>\n",
       "      <td>1993_ARKANSAS</td>\n",
       "      <td>ARKANSAS</td>\n",
       "      <td>1993</td>\n",
       "      <td>311432.0</td>\n",
       "      <td>1346909.0</td>\n",
       "      <td>128196.0</td>\n",
       "      <td>771079.0</td>\n",
       "      <td>447634.0</td>\n",
       "      <td>1376067.0</td>\n",
       "      <td>782791.0</td>\n",
       "      <td>...</td>\n",
       "      <td>36471.0</td>\n",
       "      <td>27169.0</td>\n",
       "      <td>280280.0</td>\n",
       "      <td>125801.0</td>\n",
       "      <td>407329.0</td>\n",
       "      <td>211.616130</td>\n",
       "      <td>257.647254</td>\n",
       "      <td>208.685273</td>\n",
       "      <td>266.423396</td>\n",
       "      <td>236.905842</td>\n",
       "    </tr>\n",
       "    <tr>\n",
       "      <td>57</td>\n",
       "      <td>1993_COLORADO</td>\n",
       "      <td>COLORADO</td>\n",
       "      <td>1993</td>\n",
       "      <td>539538.0</td>\n",
       "      <td>3058326.0</td>\n",
       "      <td>147793.0</td>\n",
       "      <td>1242337.0</td>\n",
       "      <td>1668196.0</td>\n",
       "      <td>3028305.0</td>\n",
       "      <td>1537714.0</td>\n",
       "      <td>...</td>\n",
       "      <td>47665.0</td>\n",
       "      <td>34770.0</td>\n",
       "      <td>403871.0</td>\n",
       "      <td>164260.0</td>\n",
       "      <td>575380.0</td>\n",
       "      <td>222.219036</td>\n",
       "      <td>273.200878</td>\n",
       "      <td>215.523979</td>\n",
       "      <td>266.856804</td>\n",
       "      <td>243.634022</td>\n",
       "    </tr>\n",
       "  </tbody>\n",
       "</table>\n",
       "<p>3 rows × 26 columns</p>\n",
       "</div>"
      ],
      "text/plain": [
       "      PRIMARY_KEY     STATE  YEAR    ENROLL  TOTAL_REVENUE  FEDERAL_REVENUE  \\\n",
       "54   1993_ARIZONA   ARIZONA  1993  676297.0      3427976.0         318465.0   \n",
       "55  1993_ARKANSAS  ARKANSAS  1993  311432.0      1346909.0         128196.0   \n",
       "57  1993_COLORADO  COLORADO  1993  539538.0      3058326.0         147793.0   \n",
       "\n",
       "    STATE_REVENUE  LOCAL_REVENUE  TOTAL_EXPENDITURE  INSTRUCTION_EXPENDITURE  \\\n",
       "54      1415407.0      1694104.0          3623946.0                1578889.0   \n",
       "55       771079.0       447634.0          1376067.0                 782791.0   \n",
       "57      1242337.0      1668196.0          3028305.0                1537714.0   \n",
       "\n",
       "    ...  GRADES_8_G  GRADES_12_G  GRADES_1_8_G  GRADES_9_12_G  GRADES_ALL_G  \\\n",
       "54  ...     53500.0      37614.0      461398.0       182737.0      647299.0   \n",
       "55  ...     36471.0      27169.0      280280.0       125801.0      407329.0   \n",
       "57  ...     47665.0      34770.0      403871.0       164260.0      575380.0   \n",
       "\n",
       "    AVG_MATH_4_SCORE  AVG_MATH_8_SCORE  AVG_READING_4_SCORE  \\\n",
       "54        215.834434        265.993417           206.291984   \n",
       "55        211.616130        257.647254           208.685273   \n",
       "57        222.219036        273.200878           215.523979   \n",
       "\n",
       "    AVG_READING_8_SCORE   avg_grade  \n",
       "54           262.448330  236.637935  \n",
       "55           266.423396  236.905842  \n",
       "57           266.856804  243.634022  \n",
       "\n",
       "[3 rows x 26 columns]"
      ]
     },
     "execution_count": 269,
     "metadata": {},
     "output_type": "execute_result"
    }
   ],
   "source": [
    "education_df.head(3)"
   ]
  },
  {
   "cell_type": "code",
   "execution_count": null,
   "metadata": {},
   "outputs": [],
   "source": []
  },
  {
   "cell_type": "markdown",
   "metadata": {},
   "source": [
    "## 2. What are the correlations between this newly created score variable and the expenditure types? Which one of the expenditure types is more correlated than the others?"
   ]
  },
  {
   "cell_type": "code",
   "execution_count": 272,
   "metadata": {},
   "outputs": [
    {
     "data": {
      "text/html": [
       "<div>\n",
       "<style scoped>\n",
       "    .dataframe tbody tr th:only-of-type {\n",
       "        vertical-align: middle;\n",
       "    }\n",
       "\n",
       "    .dataframe tbody tr th {\n",
       "        vertical-align: top;\n",
       "    }\n",
       "\n",
       "    .dataframe thead th {\n",
       "        text-align: right;\n",
       "    }\n",
       "</style>\n",
       "<table border=\"1\" class=\"dataframe\">\n",
       "  <thead>\n",
       "    <tr style=\"text-align: right;\">\n",
       "      <th></th>\n",
       "      <th>avg_grade</th>\n",
       "      <th>TOTAL_EXPENDITURE</th>\n",
       "      <th>INSTRUCTION_EXPENDITURE</th>\n",
       "      <th>SUPPORT_SERVICES_EXPENDITURE</th>\n",
       "      <th>OTHER_EXPENDITURE</th>\n",
       "      <th>CAPITAL_OUTLAY_EXPENDITURE</th>\n",
       "    </tr>\n",
       "  </thead>\n",
       "  <tbody>\n",
       "    <tr>\n",
       "      <td>avg_grade</td>\n",
       "      <td>1.000000</td>\n",
       "      <td>0.093020</td>\n",
       "      <td>0.105787</td>\n",
       "      <td>0.098643</td>\n",
       "      <td>0.027635</td>\n",
       "      <td>0.010670</td>\n",
       "    </tr>\n",
       "    <tr>\n",
       "      <td>TOTAL_EXPENDITURE</td>\n",
       "      <td>0.093020</td>\n",
       "      <td>1.000000</td>\n",
       "      <td>0.990829</td>\n",
       "      <td>0.993175</td>\n",
       "      <td>0.946483</td>\n",
       "      <td>0.928576</td>\n",
       "    </tr>\n",
       "    <tr>\n",
       "      <td>INSTRUCTION_EXPENDITURE</td>\n",
       "      <td>0.105787</td>\n",
       "      <td>0.990829</td>\n",
       "      <td>1.000000</td>\n",
       "      <td>0.975867</td>\n",
       "      <td>0.907235</td>\n",
       "      <td>0.889763</td>\n",
       "    </tr>\n",
       "    <tr>\n",
       "      <td>SUPPORT_SERVICES_EXPENDITURE</td>\n",
       "      <td>0.098643</td>\n",
       "      <td>0.993175</td>\n",
       "      <td>0.975867</td>\n",
       "      <td>1.000000</td>\n",
       "      <td>0.953789</td>\n",
       "      <td>0.913680</td>\n",
       "    </tr>\n",
       "    <tr>\n",
       "      <td>OTHER_EXPENDITURE</td>\n",
       "      <td>0.027635</td>\n",
       "      <td>0.946483</td>\n",
       "      <td>0.907235</td>\n",
       "      <td>0.953789</td>\n",
       "      <td>1.000000</td>\n",
       "      <td>0.924197</td>\n",
       "    </tr>\n",
       "    <tr>\n",
       "      <td>CAPITAL_OUTLAY_EXPENDITURE</td>\n",
       "      <td>0.010670</td>\n",
       "      <td>0.928576</td>\n",
       "      <td>0.889763</td>\n",
       "      <td>0.913680</td>\n",
       "      <td>0.924197</td>\n",
       "      <td>1.000000</td>\n",
       "    </tr>\n",
       "  </tbody>\n",
       "</table>\n",
       "</div>"
      ],
      "text/plain": [
       "                              avg_grade  TOTAL_EXPENDITURE  \\\n",
       "avg_grade                      1.000000           0.093020   \n",
       "TOTAL_EXPENDITURE              0.093020           1.000000   \n",
       "INSTRUCTION_EXPENDITURE        0.105787           0.990829   \n",
       "SUPPORT_SERVICES_EXPENDITURE   0.098643           0.993175   \n",
       "OTHER_EXPENDITURE              0.027635           0.946483   \n",
       "CAPITAL_OUTLAY_EXPENDITURE     0.010670           0.928576   \n",
       "\n",
       "                              INSTRUCTION_EXPENDITURE  \\\n",
       "avg_grade                                    0.105787   \n",
       "TOTAL_EXPENDITURE                            0.990829   \n",
       "INSTRUCTION_EXPENDITURE                      1.000000   \n",
       "SUPPORT_SERVICES_EXPENDITURE                 0.975867   \n",
       "OTHER_EXPENDITURE                            0.907235   \n",
       "CAPITAL_OUTLAY_EXPENDITURE                   0.889763   \n",
       "\n",
       "                              SUPPORT_SERVICES_EXPENDITURE  OTHER_EXPENDITURE  \\\n",
       "avg_grade                                         0.098643           0.027635   \n",
       "TOTAL_EXPENDITURE                                 0.993175           0.946483   \n",
       "INSTRUCTION_EXPENDITURE                           0.975867           0.907235   \n",
       "SUPPORT_SERVICES_EXPENDITURE                      1.000000           0.953789   \n",
       "OTHER_EXPENDITURE                                 0.953789           1.000000   \n",
       "CAPITAL_OUTLAY_EXPENDITURE                        0.913680           0.924197   \n",
       "\n",
       "                              CAPITAL_OUTLAY_EXPENDITURE  \n",
       "avg_grade                                       0.010670  \n",
       "TOTAL_EXPENDITURE                               0.928576  \n",
       "INSTRUCTION_EXPENDITURE                         0.889763  \n",
       "SUPPORT_SERVICES_EXPENDITURE                    0.913680  \n",
       "OTHER_EXPENDITURE                               0.924197  \n",
       "CAPITAL_OUTLAY_EXPENDITURE                      1.000000  "
      ]
     },
     "execution_count": 272,
     "metadata": {},
     "output_type": "execute_result"
    }
   ],
   "source": [
    "education_df[['avg_grade','TOTAL_EXPENDITURE', 'INSTRUCTION_EXPENDITURE','SUPPORT_SERVICES_EXPENDITURE', 'OTHER_EXPENDITURE','CAPITAL_OUTLAY_EXPENDITURE']].corr()"
   ]
  },
  {
   "cell_type": "code",
   "execution_count": null,
   "metadata": {},
   "outputs": [],
   "source": []
  },
  {
   "cell_type": "code",
   "execution_count": 273,
   "metadata": {},
   "outputs": [
    {
     "data": {
      "text/plain": [
       "<matplotlib.axes._subplots.AxesSubplot at 0x7f968f09b1d0>"
      ]
     },
     "execution_count": 273,
     "metadata": {},
     "output_type": "execute_result"
    },
    {
     "data": {
      "image/png": "[encoded data removed]",
      "text/plain": [
       "<Figure size 432x288 with 2 Axes>"
      ]
     },
     "metadata": {},
     "output_type": "display_data"
    }
   ],
   "source": [
    "sns.heatmap(df.corr(),square=True,annot=True,linewidth=0.5)"
   ]
  },
  {
   "cell_type": "markdown",
   "metadata": {},
   "source": [
    "INSTRUCTION_EXPENDITURE is more correlated"
   ]
  },
  {
   "cell_type": "markdown",
   "metadata": {},
   "source": [
    "## 3. Now, apply PCA to the four expenditure types. How much of the total variance is explained by the first component? "
   ]
  },
  {
   "cell_type": "code",
   "execution_count": 287,
   "metadata": {},
   "outputs": [],
   "source": [
    "from sklearn.decomposition import PCA\n",
    "from sklearn.preprocessing import StandardScaler\n",
    "X=education_df[[\"INSTRUCTION_EXPENDITURE\", \"SUPPORT_SERVICES_EXPENDITURE\",\"OTHER_EXPENDITURE\", \"CAPITAL_OUTLAY_EXPENDITURE\"]]\n",
    "X=StandardScaler().fit_transform(X)\n",
    "pca=PCA(n_components=1)\n",
    "pca1=pca.fit_transform(X)"
   ]
  },
  {
   "cell_type": "code",
   "execution_count": 288,
   "metadata": {},
   "outputs": [
    {
     "data": {
      "text/plain": [
       "array([[-0.92069757],\n",
       "       [-1.34651774],\n",
       "       [-1.11668175],\n",
       "       ...,\n",
       "       [-0.97377763],\n",
       "       [ 0.13057022],\n",
       "       [-1.22054714]])"
      ]
     },
     "execution_count": 288,
     "metadata": {},
     "output_type": "execute_result"
    }
   ],
   "source": [
    "pca1"
   ]
  },
  {
   "cell_type": "code",
   "execution_count": 281,
   "metadata": {},
   "outputs": [
    {
     "name": "stdout",
     "output_type": "stream",
     "text": [
      "The percentage of total variance in the dataset explained by each component from Sklearn PCA.\n",
      " [0.94568116]\n"
     ]
    }
   ],
   "source": [
    "print(\n",
    "    'The percentage of total variance in the dataset explained by each',\n",
    "    'component from Sklearn PCA.\\n',\n",
    "    pca.explained_variance_ratio_)"
   ]
  },
  {
   "cell_type": "markdown",
   "metadata": {},
   "source": [
    "## 4. What is the correlation between the overall score variable and the first principal component? "
   ]
  },
  {
   "cell_type": "code",
   "execution_count": 289,
   "metadata": {},
   "outputs": [],
   "source": [
    "education_df['pca1']=pca1"
   ]
  },
  {
   "cell_type": "code",
   "execution_count": 290,
   "metadata": {},
   "outputs": [
    {
     "data": {
      "text/html": [
       "<div>\n",
       "<style scoped>\n",
       "    .dataframe tbody tr th:only-of-type {\n",
       "        vertical-align: middle;\n",
       "    }\n",
       "\n",
       "    .dataframe tbody tr th {\n",
       "        vertical-align: top;\n",
       "    }\n",
       "\n",
       "    .dataframe thead th {\n",
       "        text-align: right;\n",
       "    }\n",
       "</style>\n",
       "<table border=\"1\" class=\"dataframe\">\n",
       "  <thead>\n",
       "    <tr style=\"text-align: right;\">\n",
       "      <th></th>\n",
       "      <th>PRIMARY_KEY</th>\n",
       "      <th>STATE</th>\n",
       "      <th>YEAR</th>\n",
       "      <th>ENROLL</th>\n",
       "      <th>TOTAL_REVENUE</th>\n",
       "      <th>FEDERAL_REVENUE</th>\n",
       "      <th>STATE_REVENUE</th>\n",
       "      <th>LOCAL_REVENUE</th>\n",
       "      <th>TOTAL_EXPENDITURE</th>\n",
       "      <th>INSTRUCTION_EXPENDITURE</th>\n",
       "      <th>...</th>\n",
       "      <th>GRADES_1_8_G</th>\n",
       "      <th>GRADES_9_12_G</th>\n",
       "      <th>GRADES_ALL_G</th>\n",
       "      <th>AVG_MATH_4_SCORE</th>\n",
       "      <th>AVG_MATH_8_SCORE</th>\n",
       "      <th>AVG_READING_4_SCORE</th>\n",
       "      <th>AVG_READING_8_SCORE</th>\n",
       "      <th>avg_grade</th>\n",
       "      <th>pca</th>\n",
       "      <th>pca1</th>\n",
       "    </tr>\n",
       "  </thead>\n",
       "  <tbody>\n",
       "    <tr>\n",
       "      <td>54</td>\n",
       "      <td>1993_ARIZONA</td>\n",
       "      <td>ARIZONA</td>\n",
       "      <td>1993</td>\n",
       "      <td>676297.0</td>\n",
       "      <td>3427976.0</td>\n",
       "      <td>318465.0</td>\n",
       "      <td>1415407.0</td>\n",
       "      <td>1694104.0</td>\n",
       "      <td>3623946.0</td>\n",
       "      <td>1578889.0</td>\n",
       "      <td>...</td>\n",
       "      <td>461398.0</td>\n",
       "      <td>182737.0</td>\n",
       "      <td>647299.0</td>\n",
       "      <td>215.834434</td>\n",
       "      <td>265.993417</td>\n",
       "      <td>206.291984</td>\n",
       "      <td>262.44833</td>\n",
       "      <td>236.637935</td>\n",
       "      <td>PCA(copy=True, iterated_power='auto', n_compon...</td>\n",
       "      <td>-0.920698</td>\n",
       "    </tr>\n",
       "  </tbody>\n",
       "</table>\n",
       "<p>1 rows × 28 columns</p>\n",
       "</div>"
      ],
      "text/plain": [
       "     PRIMARY_KEY    STATE  YEAR    ENROLL  TOTAL_REVENUE  FEDERAL_REVENUE  \\\n",
       "54  1993_ARIZONA  ARIZONA  1993  676297.0      3427976.0         318465.0   \n",
       "\n",
       "    STATE_REVENUE  LOCAL_REVENUE  TOTAL_EXPENDITURE  INSTRUCTION_EXPENDITURE  \\\n",
       "54      1415407.0      1694104.0          3623946.0                1578889.0   \n",
       "\n",
       "    ...  GRADES_1_8_G  GRADES_9_12_G  GRADES_ALL_G  AVG_MATH_4_SCORE  \\\n",
       "54  ...      461398.0       182737.0      647299.0        215.834434   \n",
       "\n",
       "    AVG_MATH_8_SCORE  AVG_READING_4_SCORE  AVG_READING_8_SCORE   avg_grade  \\\n",
       "54        265.993417           206.291984            262.44833  236.637935   \n",
       "\n",
       "                                                  pca      pca1  \n",
       "54  PCA(copy=True, iterated_power='auto', n_compon... -0.920698  \n",
       "\n",
       "[1 rows x 28 columns]"
      ]
     },
     "execution_count": 290,
     "metadata": {},
     "output_type": "execute_result"
    }
   ],
   "source": [
    "education_df.head(1)"
   ]
  },
  {
   "cell_type": "code",
   "execution_count": 292,
   "metadata": {},
   "outputs": [
    {
     "data": {
      "text/html": [
       "<div>\n",
       "<style scoped>\n",
       "    .dataframe tbody tr th:only-of-type {\n",
       "        vertical-align: middle;\n",
       "    }\n",
       "\n",
       "    .dataframe tbody tr th {\n",
       "        vertical-align: top;\n",
       "    }\n",
       "\n",
       "    .dataframe thead th {\n",
       "        text-align: right;\n",
       "    }\n",
       "</style>\n",
       "<table border=\"1\" class=\"dataframe\">\n",
       "  <thead>\n",
       "    <tr style=\"text-align: right;\">\n",
       "      <th></th>\n",
       "      <th>avg_grade</th>\n",
       "      <th>pca1</th>\n",
       "    </tr>\n",
       "  </thead>\n",
       "  <tbody>\n",
       "    <tr>\n",
       "      <td>avg_grade</td>\n",
       "      <td>1.000000</td>\n",
       "      <td>0.062716</td>\n",
       "    </tr>\n",
       "    <tr>\n",
       "      <td>pca1</td>\n",
       "      <td>0.062716</td>\n",
       "      <td>1.000000</td>\n",
       "    </tr>\n",
       "  </tbody>\n",
       "</table>\n",
       "</div>"
      ],
      "text/plain": [
       "           avg_grade      pca1\n",
       "avg_grade   1.000000  0.062716\n",
       "pca1        0.062716  1.000000"
      ]
     },
     "execution_count": 292,
     "metadata": {},
     "output_type": "execute_result"
    }
   ],
   "source": [
    "education_df[['avg_grade','pca1']].corr()"
   ]
  },
  {
   "cell_type": "markdown",
   "metadata": {},
   "source": [
    "## 5. If you were to choose the best variables for your model, would you prefer using the first principal component instead of the expenditure variables? Why?"
   ]
  },
  {
   "cell_type": "code",
   "execution_count": 293,
   "metadata": {},
   "outputs": [
    {
     "data": {
      "text/html": [
       "<div>\n",
       "<style scoped>\n",
       "    .dataframe tbody tr th:only-of-type {\n",
       "        vertical-align: middle;\n",
       "    }\n",
       "\n",
       "    .dataframe tbody tr th {\n",
       "        vertical-align: top;\n",
       "    }\n",
       "\n",
       "    .dataframe thead th {\n",
       "        text-align: right;\n",
       "    }\n",
       "</style>\n",
       "<table border=\"1\" class=\"dataframe\">\n",
       "  <thead>\n",
       "    <tr style=\"text-align: right;\">\n",
       "      <th></th>\n",
       "      <th>avg_grade</th>\n",
       "      <th>pca1</th>\n",
       "      <th>TOTAL_EXPENDITURE</th>\n",
       "      <th>INSTRUCTION_EXPENDITURE</th>\n",
       "      <th>SUPPORT_SERVICES_EXPENDITURE</th>\n",
       "      <th>OTHER_EXPENDITURE</th>\n",
       "      <th>CAPITAL_OUTLAY_EXPENDITURE</th>\n",
       "    </tr>\n",
       "  </thead>\n",
       "  <tbody>\n",
       "    <tr>\n",
       "      <td>avg_grade</td>\n",
       "      <td>1.000000</td>\n",
       "      <td>0.062716</td>\n",
       "      <td>0.093020</td>\n",
       "      <td>0.105787</td>\n",
       "      <td>0.098643</td>\n",
       "      <td>0.027635</td>\n",
       "      <td>0.010670</td>\n",
       "    </tr>\n",
       "    <tr>\n",
       "      <td>pca1</td>\n",
       "      <td>0.062716</td>\n",
       "      <td>1.000000</td>\n",
       "      <td>0.992264</td>\n",
       "      <td>0.970167</td>\n",
       "      <td>0.988317</td>\n",
       "      <td>0.973193</td>\n",
       "      <td>0.957927</td>\n",
       "    </tr>\n",
       "    <tr>\n",
       "      <td>TOTAL_EXPENDITURE</td>\n",
       "      <td>0.093020</td>\n",
       "      <td>0.992264</td>\n",
       "      <td>1.000000</td>\n",
       "      <td>0.990829</td>\n",
       "      <td>0.993175</td>\n",
       "      <td>0.946483</td>\n",
       "      <td>0.928576</td>\n",
       "    </tr>\n",
       "    <tr>\n",
       "      <td>INSTRUCTION_EXPENDITURE</td>\n",
       "      <td>0.105787</td>\n",
       "      <td>0.970167</td>\n",
       "      <td>0.990829</td>\n",
       "      <td>1.000000</td>\n",
       "      <td>0.975867</td>\n",
       "      <td>0.907235</td>\n",
       "      <td>0.889763</td>\n",
       "    </tr>\n",
       "    <tr>\n",
       "      <td>SUPPORT_SERVICES_EXPENDITURE</td>\n",
       "      <td>0.098643</td>\n",
       "      <td>0.988317</td>\n",
       "      <td>0.993175</td>\n",
       "      <td>0.975867</td>\n",
       "      <td>1.000000</td>\n",
       "      <td>0.953789</td>\n",
       "      <td>0.913680</td>\n",
       "    </tr>\n",
       "    <tr>\n",
       "      <td>OTHER_EXPENDITURE</td>\n",
       "      <td>0.027635</td>\n",
       "      <td>0.973193</td>\n",
       "      <td>0.946483</td>\n",
       "      <td>0.907235</td>\n",
       "      <td>0.953789</td>\n",
       "      <td>1.000000</td>\n",
       "      <td>0.924197</td>\n",
       "    </tr>\n",
       "    <tr>\n",
       "      <td>CAPITAL_OUTLAY_EXPENDITURE</td>\n",
       "      <td>0.010670</td>\n",
       "      <td>0.957927</td>\n",
       "      <td>0.928576</td>\n",
       "      <td>0.889763</td>\n",
       "      <td>0.913680</td>\n",
       "      <td>0.924197</td>\n",
       "      <td>1.000000</td>\n",
       "    </tr>\n",
       "  </tbody>\n",
       "</table>\n",
       "</div>"
      ],
      "text/plain": [
       "                              avg_grade      pca1  TOTAL_EXPENDITURE  \\\n",
       "avg_grade                      1.000000  0.062716           0.093020   \n",
       "pca1                           0.062716  1.000000           0.992264   \n",
       "TOTAL_EXPENDITURE              0.093020  0.992264           1.000000   \n",
       "INSTRUCTION_EXPENDITURE        0.105787  0.970167           0.990829   \n",
       "SUPPORT_SERVICES_EXPENDITURE   0.098643  0.988317           0.993175   \n",
       "OTHER_EXPENDITURE              0.027635  0.973193           0.946483   \n",
       "CAPITAL_OUTLAY_EXPENDITURE     0.010670  0.957927           0.928576   \n",
       "\n",
       "                              INSTRUCTION_EXPENDITURE  \\\n",
       "avg_grade                                    0.105787   \n",
       "pca1                                         0.970167   \n",
       "TOTAL_EXPENDITURE                            0.990829   \n",
       "INSTRUCTION_EXPENDITURE                      1.000000   \n",
       "SUPPORT_SERVICES_EXPENDITURE                 0.975867   \n",
       "OTHER_EXPENDITURE                            0.907235   \n",
       "CAPITAL_OUTLAY_EXPENDITURE                   0.889763   \n",
       "\n",
       "                              SUPPORT_SERVICES_EXPENDITURE  OTHER_EXPENDITURE  \\\n",
       "avg_grade                                         0.098643           0.027635   \n",
       "pca1                                              0.988317           0.973193   \n",
       "TOTAL_EXPENDITURE                                 0.993175           0.946483   \n",
       "INSTRUCTION_EXPENDITURE                           0.975867           0.907235   \n",
       "SUPPORT_SERVICES_EXPENDITURE                      1.000000           0.953789   \n",
       "OTHER_EXPENDITURE                                 0.953789           1.000000   \n",
       "CAPITAL_OUTLAY_EXPENDITURE                        0.913680           0.924197   \n",
       "\n",
       "                              CAPITAL_OUTLAY_EXPENDITURE  \n",
       "avg_grade                                       0.010670  \n",
       "pca1                                            0.957927  \n",
       "TOTAL_EXPENDITURE                               0.928576  \n",
       "INSTRUCTION_EXPENDITURE                         0.889763  \n",
       "SUPPORT_SERVICES_EXPENDITURE                    0.913680  \n",
       "OTHER_EXPENDITURE                               0.924197  \n",
       "CAPITAL_OUTLAY_EXPENDITURE                      1.000000  "
      ]
     },
     "execution_count": 293,
     "metadata": {},
     "output_type": "execute_result"
    }
   ],
   "source": [
    "education_df[['avg_grade','pca1','TOTAL_EXPENDITURE', 'INSTRUCTION_EXPENDITURE','SUPPORT_SERVICES_EXPENDITURE', 'OTHER_EXPENDITURE','CAPITAL_OUTLAY_EXPENDITURE']].corr()"
   ]
  },
  {
   "cell_type": "raw",
   "metadata": {},
   "source": [
    "TOTAL_EXPENDITURE and INSTRUCTION_EXPENDITURE are more correlated than PCA so I don't pick pca.\n",
    "PCA works good when the correlation between the variables < 0.8. \n",
    "Here, all of the expenditure variables are highly correlated with each other. "
   ]
  },
  {
   "cell_type": "code",
   "execution_count": null,
   "metadata": {},
   "outputs": [],
   "source": []
  },
  {
   "cell_type": "markdown",
   "metadata": {},
   "source": [
    "# -------------------------------------------------------------------"
   ]
  },
  {
   "cell_type": "code",
   "execution_count": 202,
   "metadata": {},
   "outputs": [
    {
     "data": {
      "text/plain": [
       "364571.0"
      ]
     },
     "execution_count": 202,
     "metadata": {},
     "output_type": "execute_result"
    }
   ],
   "source": [
    "sum(edu_df['GRADES_4_G'].dropna())-sum(edu_df['GRADES_8_G'].dropna())"
   ]
  },
  {
   "cell_type": "code",
   "execution_count": null,
   "metadata": {},
   "outputs": [],
   "source": []
  }
 ],
 "metadata": {
  "kernelspec": {
   "display_name": "Python 3",
   "language": "python",
   "name": "python3"
  },
  "language_info": {
   "codemirror_mode": {
    "name": "ipython",
    "version": 3
   },
   "file_extension": ".py",
   "mimetype": "text/x-python",
   "name": "python",
   "nbconvert_exporter": "python",
   "pygments_lexer": "ipython3",
   "version": "3.7.4"
  }
 },
 "nbformat": 4,
 "nbformat_minor": 2
}
